{
 "cells": [
  {
   "cell_type": "markdown",
   "metadata": {},
   "source": [
    "# PSPG 245B CDD Workshop - Naive Bayes Classifier\n",
    "\n",
    "In this notebook, you will be working with data from the ChEMBL dataset of bioactive molecules to train a Naive Bayes classifier to predict protein target given drug structure. This code takes in a file containing various cancer-related compounds (SMILES), along with two reference files containing data on molecules and targets from ChEMBL. We will load the data, convert the SMILES into molecular fingerprint representations of molecules using RDKIT, and train a machine-learning model called a Naive Bayesian Classifier to predict the protein targets of each compound."
   ]
  },
  {
   "cell_type": "markdown",
   "metadata": {},
   "source": [
    "#### Import modules - necessary Python packages we will be using.\n",
    "\n",
    "Confirm that your environment has been installed correctly by running the cell below; either selecting \"Run\" from the above menu or hitting Shift + Enter."
   ]
  },
  {
   "cell_type": "code",
   "execution_count": 1,
   "metadata": {},
   "outputs": [
    {
     "data": {
      "text/html": [
       "<style>.container {width:85% !important;} </style>"
      ],
      "text/plain": [
       "<IPython.core.display.HTML object>"
      ]
     },
     "metadata": {},
     "output_type": "display_data"
    }
   ],
   "source": [
    "## RUN THIS CELL ##\n",
    "# Jupyter Display\n",
    "from IPython.core.display import display,HTML\n",
    "display(HTML(\"<style>.container {width:85% !important;} </style>\"))\n",
    "\n",
    "# Standard Python Tools\n",
    "import sys, os, operator\n",
    "import warnings\n",
    "\n",
    "# File I/O\n",
    "import csv\n",
    "import gzip\n",
    "\n",
    "# Custom functions\n",
    "from utils import map_target_identifiers, flatten_list, view_target_dist\n",
    "\n",
    "# Data handling modules\n",
    "import numpy as np\n",
    "import pandas as pd\n",
    "\n",
    "# Sklearn Modules\n",
    "from sklearn.naive_bayes import BernoulliNB\n",
    "from sklearn.naive_bayes import MultinomialNB\n",
    "from sklearn.model_selection import train_test_split\n",
    "from sklearn.metrics import confusion_matrix\n",
    "\n",
    "# Chemical Handling Modules\n",
    "from rdkit import Chem\n",
    "from rdkit import DataStructs\n",
    "from rdkit.Chem import AllChem, Draw\n",
    "\n",
    "# Vizualization Modules\n",
    "%matplotlib inline\n",
    "import matplotlib.pyplot as plt\n",
    "import seaborn as sns\n",
    "sns.set_style('darkgrid')\n",
    "\n",
    "from IPython.display import Image\n"
   ]
  },
  {
   "cell_type": "markdown",
   "metadata": {},
   "source": [
    "## Directions\n",
    "Fix the functions so that our handler function below will work.\n",
    "\n",
    "**Note_1:** Not all the functions need to be adjusted. Those that work as is, have a comment above mentioning the function does not need to be altered.\n",
    "\n",
    "**Note_2:** The Jupyter notebook stores all variables created in memory unless explicitely deleted. Thus if you name a variable something and change the name in the same cell, the original variable will STILL be there. This can cause problems if you forget to change all instances of the initial variable later in your script. The easiest way to not worry about this is to restart the kernel, which will flush the memory. However you will have to reload every cell again.\n",
    "\n",
    "**Note_3:** Ask questions! We are here to help :)"
   ]
  },
  {
   "cell_type": "markdown",
   "metadata": {},
   "source": [
    "# Part 1: Working with molecules and molecular representations in RDKit"
   ]
  },
  {
   "cell_type": "markdown",
   "metadata": {},
   "source": [
    "## Molecular representations\n",
    "\n",
    "Molecules can be represented in a number of different ways, from string representations like SMILES, SMIRKS, and InChi, to fingerprint represetations, to graphs, and lots of others. For the purposes of this workshop, we will be working with SMILES and extended-connectivity fingerprints.\n",
    "\n",
    "### - SMILES\n",
    "\n",
    "SMILES (Simplified molecular-input line-entry system) proposed by Weininger (1988) is a popular method to represent molecules as ASCII strings. The string is created by printing out the nodes found on a traversal of the molecular graph. For our purposes it is not particularly important how this traversal happens but note how atoms are represented by their usual element symbol (i.e. carbon by 'C', oxygen by 'O', etc), bonds by the symbols . - = # $ : / \\, branching by parentheses, and rings by numbers. RDKit is able to create a Molecule object directly from a SMILES string:"
   ]
  },
  {
   "cell_type": "code",
   "execution_count": null,
   "metadata": {},
   "outputs": [],
   "source": [
    "## RUN THIS CELL ##\n",
    "paracetemol_str = 'CC(=O)Nc1ccc(O)cc1'\n",
    "paracetemol_mol = Chem.MolFromSmiles(paracetemol_str)\n",
    "Draw.MolToImage(paracetemol_mol)"
   ]
  },
  {
   "cell_type": "markdown",
   "metadata": {},
   "source": [
    "Note that there is a one-to-many mapping between molecules and their SMILES string representations depending on how one traverses the molecular graph! This means that multiple SMILES can all refer to the same molecule.  \n",
    "\n",
    "When converting a SMILES string to an `RDKit Mol` object (which happened when running `Chem.MolFromSmiles`), RDKit will infer properties of atoms and bonds, which we can then inspect and manipulate. For example, we can iterate through the atoms or bonds:\n"
   ]
  },
  {
   "cell_type": "code",
   "execution_count": null,
   "metadata": {},
   "outputs": [],
   "source": [
    "## RUN THIS CELL ##\n",
    "for atm in paracetemol_mol.GetAtoms():\n",
    "    print(f\"Atom element: {atm.GetSymbol()}, atomic number: {atm.GetAtomicNum()}, number of hydrogens {atm.GetTotalNumHs()}\")\n",
    "\n",
    "# Iterate through the bonds..\n",
    "for bnd in paracetemol_mol.GetBonds():\n",
    "    print(f\"Bond from {bnd.GetBeginAtomIdx()} to {bnd.GetEndAtomIdx()} and is of type {bnd.GetBondType()}.\")"
   ]
  },
  {
   "cell_type": "markdown",
   "metadata": {},
   "source": [
    "###  *Excercise: Convert the following smiles to rdkit mol and find the number of atoms in each*\n",
    "\n",
    "The skeleton is provided for you, fill in the blanks accordingly."
   ]
  },
  {
   "cell_type": "code",
   "execution_count": 4,
   "metadata": {},
   "outputs": [],
   "source": [
    "## RUN THIS CELL ##\n",
    "molecules = {\n",
    "    'Glucose': 'OC[C@H]1OC(O)[C@H](O)[C@@H](O)[C@@H]1O',  \n",
    "    'Thiamine (Vitamin B1)': 'Cc1c(sc[n+]1Cc2cnc([nH]c2=N)C)CCO',   \n",
    "    'Ibuprofen': 'CC(C)Cc1ccc(cc1)[C@@H](C)C(=O)O'   \n",
    "}"
   ]
  },
  {
   "cell_type": "code",
   "execution_count": null,
   "metadata": {},
   "outputs": [],
   "source": [
    "## FILL IN THE MISSING ARGUMENTS ##\n",
    "for mol_name, mol_smi in molecules.items():\n",
    "    mol = Chem.MolFromSmiles(?)\n",
    "    num_atoms = len(mol.?) # Hint: what function that we used above gave us a list of atoms?\n",
    "    print(mol_name, num_atoms)"
   ]
  },
  {
   "cell_type": "markdown",
   "metadata": {},
   "source": [
    "### - Molecular Fingerprints\n",
    "\n",
    "Character strings are not the only way to represent molecules. Most simple aachine learning models require a fixed-length numeric input structure. One way of acheiving this for molecules is what's known as a \"molecular fingerprint\".\n",
    "\n",
    "The basic idea of molecular fingerprint is as follows:\n",
    " 1. Assign each atom an initial identifier\n",
    " 2. Update atom's identifiers based on its neighbors\n",
    " 3. Remove duplicates\n",
    " 4. Fold list of identifiers into a n-bit vector (usually 1024)\n",
    " \n",
    "The result of this process is that each bit in the fingerprint represents the presence of a specific moiety or chemical substructure, which can be visualized as:\n",
    "\n",
    "![fingerprint](https://ars.els-cdn.com/content/image/1-s2.0-S1046202314002631-fx1.jpg)\n",
    "  \n",
    "  \n",
    "You can learn more about molecular fingerprints [here](https://www.sciencedirect.com/science/article/abs/pii/S1046202314002631). In this notebook, we'll be working with Morgan/ECFP fingerprints, as described by [Rogers and Hahn](https://pubs.acs.org/doi/10.1021/ci100050t) and implemented in the RDKit package.\n"
   ]
  },
  {
   "cell_type": "code",
   "execution_count": null,
   "metadata": {},
   "outputs": [],
   "source": [
    "## RUN THIS CELL ##\n",
    "mol = Chem.MolFromSmiles(paracetemol_str)\n",
    "fp = AllChem.GetMorganFingerprintAsBitVect(mol, radius=2, nBits=1024) # find the morgan fingerprint of the molecule at radius and nBits\n",
    "bstr = fp.ToBitString() # convert to string to print\n",
    "bstr "
   ]
  },
  {
   "cell_type": "markdown",
   "metadata": {},
   "source": [
    "###  *Excercise: For the molecules defined previously, calculate the fingerprint at radius 2, 3. Find the number of on bits for each case using `fp.GetNumOnBits()`*\n",
    "\n",
    "The skeleton is provided for you, fill in the blanks accordingly."
   ]
  },
  {
   "cell_type": "code",
   "execution_count": null,
   "metadata": {},
   "outputs": [],
   "source": [
    "## FILL IN THE MISSING ARGUMENTS ##\n",
    "for radius in [2, 3]:\n",
    "    for mol_name, mol_smi in molecules.items(): # using same molecules as above\n",
    "        mol = Chem.MolFromSmiles(mol_smi)\n",
    "        fp = AllChem.GetMorganFingerprintAsBitVect(mol, radius=?, nBits=1024)\n",
    "        print(mol_name, ?)"
   ]
  },
  {
   "cell_type": "markdown",
   "metadata": {},
   "source": [
    "## Molecular Similarity \n",
    "### - Tanimoto Coefficients\n",
    "\n",
    "Along with their use as inputs to ML models, fingerprints can also be used to compute a notion of similarity between different molecules. A common way to to do this is through the Tanimoto similarity between two fingerprints.\n",
    "\n",
    "$T = \\frac{N_{AB}}{N_A + N_B - N_{AB}}$\n",
    "\n",
    "- $N_A$ represents the number of `on` feature (bits) in A\n",
    "- $N_B$ represents the number of `on` feature (bits) in B\n",
    "- $N_{AB}$ represents the number of `on` feature (bits) in both fingerprint A and B\n",
    "\n",
    "Or in other words, the intersection of `on` bits / union of `on` bits. For identical molecules, these are equivalent, resulting in a TC of 1. Completely disjoint\n",
    "fingerprints would have a TC of 0.\n",
    "\n"
   ]
  },
  {
   "cell_type": "markdown",
   "metadata": {},
   "source": [
    "### *Excercise: For the molecules defined, find the tanimoto similarity using the rdkit TanimotoSimilarity function* \n",
    "The skeleton is provided for you, fill in the blanks accordingly."
   ]
  },
  {
   "cell_type": "code",
   "execution_count": null,
   "metadata": {},
   "outputs": [],
   "source": [
    "## COMPLETE THE FUNCTION ##\n",
    "def compute_tanimoto_similarity(smiles_1, smiles_2):\n",
    "    \"\"\"This function takes in 2 SMILES and input and returns the Tanimoto Similarity between them.\"\"\"\n",
    "    #### fill in function ###\n",
    "    \n",
    "\n",
    "    return DataStructs.TanimotoSimilarity(?, ?) # Hint - this expects two BitVect, how can we generate them?"
   ]
  },
  {
   "cell_type": "code",
   "execution_count": null,
   "metadata": {},
   "outputs": [],
   "source": [
    "### FILL IN THE MISSING ARGUMENTS ###\n",
    "mol_names = sorted(list(molecules))\n",
    "for i, mol_name in enumerate(mol_names):\n",
    "    for mol2_name in mol_names[i+1:]:\n",
    "        tc = compute_tanimoto_similarity(molecules[?], molecules[?])\n",
    "        print(f\"Similarity between {mol_name} and {mol2_name}: {tc:.3f}\")"
   ]
  },
  {
   "cell_type": "markdown",
   "metadata": {},
   "source": [
    "### Further reading\n",
    "\n",
    "**RDKit** learn more about rdkit functions at RDKit [documentation](http://www.rdkit.org/docs/index.html). A tutorial on RDKit that can be useful can be found at [here](http://www.rdkit.org/docs/GettingStartedInPython.html)\n",
    "\n",
    "Morgan fingerprints are not the only way to compute fingerprints of molecules. RDKit has a series of other fingerprinting methods that can be used. Choosing fingerprints could be an dataset dependent decision, although Rinker and Landrum (2013) find that many popular fingerprints offer fairly similar performance in downstream tasks."
   ]
  },
  {
   "cell_type": "markdown",
   "metadata": {},
   "source": [
    "# Part 2: Predicting targets using machine learning\n",
    "\n",
    "Now that you've gotten a chance to work with RDKit using a few molecular representations, it's time to use these representations to train a model. As discussed above, we will be training our model on the ChEMBL dataset, and then using that trained model to predict the targets of a new set of cancer-related compounds from the NCI-60 dataset. "
   ]
  },
  {
   "cell_type": "markdown",
   "metadata": {},
   "source": [
    "### Perform EDA on the NCI-60 dataset\n",
    "In order to determine which compounds are optimal for treatment, you will need to identify which **breast cancer cell line** is most relevant to your tumor. Before the second portion of the workshop, your goal is to explore the datasets provided by the NCI60 and to make a decision on which cell line(s) to focus on. You will share how you made your decision.\n",
    "\n",
    "The NCI's genomics and bioinformatics group has created a web portal consolidating all the data and metadata related to the screen that is publicly available and convenient to access. The sites homepage is located here: https://discover.nci.nih.gov/cellminer/home.do We encourage you to examine the upper blue tabs, especially the ones labeled \"Data Set Metadata\", \"Cell Line Metadata\", and \"Download Data Sets\"."
   ]
  },
  {
   "cell_type": "code",
   "execution_count": 10,
   "metadata": {},
   "outputs": [],
   "source": [
    "# read NC60 screen\n",
    "nci60 = pd.read_csv(\"DTP-NCI60_Dataset/dtp_nci60_compounds.csv.gz\") # relative path to compounds.csv.gz\n",
    "nci60 = nci60.melt(id_vars=['PubChem_id', 'SMILES', 'drug_name'], var_name='cell_line', value_name='cpd_activity')"
   ]
  },
  {
   "cell_type": "code",
   "execution_count": null,
   "metadata": {},
   "outputs": [],
   "source": [
    "nci60.head()"
   ]
  },
  {
   "cell_type": "code",
   "execution_count": null,
   "metadata": {},
   "outputs": [],
   "source": [
    "### FILL IN WITH CHOSEN CELL LINE AND NUMBER OF MOLECULES ###\n",
    "cell_line = ?\n",
    "n_cpds = ?\n",
    "# filter\n",
    "top_cpds = nci60[nci60['cell_line']==cell_line].sort_values(by='cpd_activity', ascending=False)[:n_cpds]\n",
    "top_cpds = top_cpds[['PubChem_id', 'SMILES', 'drug_name']]\n",
    "top_cpds.head()\n",
    "# write to csv\n",
    "top_cpds.to_csv(f\"{cell_line}_top{n_cpds}_cpds.csv\", index=False)"
   ]
  },
  {
   "cell_type": "markdown",
   "metadata": {},
   "source": [
    "### Exercise: Update the following code to plot a histogram of compound activities for your selected cell line.\n",
    "Whats the range of activities? What's the mean?"
   ]
  },
  {
   "cell_type": "code",
   "execution_count": null,
   "metadata": {},
   "outputs": [],
   "source": [
    "# EDA visualization\n",
    "cpds_line = nci60[nci60['cell_line'] == cell_line]\n",
    "cpds_line[?].hist()\n",
    "np.mean(cpds_line[?])"
   ]
  },
  {
   "cell_type": "markdown",
   "metadata": {},
   "source": [
    "### Question: What cell line did you choose and why?\n",
    "\n",
    "Answer here"
   ]
  },
  {
   "cell_type": "markdown",
   "metadata": {},
   "source": [
    "## Loading and splitting training data"
   ]
  },
  {
   "cell_type": "code",
   "execution_count": 13,
   "metadata": {},
   "outputs": [],
   "source": [
    "#Python Pandas print options\n",
    "pd.set_option('display.width', 1000)\n",
    "pd.set_option('precision', 3)\n",
    "pd.set_option('max_rows', 15)\n",
    "pd.set_option('large_repr', 'truncate')\n",
    "pd.set_option('max_colwidth', 40)\n",
    "pd.set_option('colheader_justify', 'left')\n",
    "\n",
    "\n",
    "# Default Directories\n",
    "BASE_DIR = os.getcwd()\n",
    "\n",
    "# Default Files\n",
    "CANCER_CPDS_F = os.path.join(BASE_DIR, 'data', 'cancer_compounds.sample.csv')\n",
    "CHEMBL_MOLS_F = os.path.join(BASE_DIR, 'data', 'chembl_21_binding_molecules.csv.gz')\n",
    "CHEMBL_TARGS_F = os.path.join(BASE_DIR, 'data', 'chembl_21_binding_targets.csv.gz')"
   ]
  },
  {
   "cell_type": "markdown",
   "metadata": {},
   "source": [
    "### Reading our dataset - Utility functions\n",
    "The following functions perform a number of operations such as reading the dataset, converting the molecules to fingerprints, and getting the drug target for each compound. They are provided for you and do not need to be altered."
   ]
  },
  {
   "cell_type": "code",
   "execution_count": 14,
   "metadata": {},
   "outputs": [],
   "source": [
    "## THESE FUNCTION DOES NOT NEED TO BE ALTERED ##\n",
    "# documentation:\n",
    "# https://www.rdkit.org/docs/source/rdkit.Chem.rdmolfiles.html#rdkit.Chem.rdmolfiles.MolFromSmiles\n",
    "# https://rdkit.readthedocs.io/en/latest/GettingStartedInPython.html#morgan-fingerprints-circular-fingerprints\n",
    "def gen_compound_bitstring(smile, radius=4, nBits=1024):\n",
    "    \"\"\" Generate morgan-fingerprint from compound smile, convert fingerprint to bit-vec\"\"\"\n",
    "    mol = Chem.MolFromSmiles(smile) # convert the smiles to RDKit mol object\n",
    "    if mol is None:\n",
    "        return None\n",
    "    fp = AllChem.GetMorganFingerprintAsBitVect(mol, radius, nBits) # find the morgan fingerprint of the molecule at radius and nBits\n",
    "    bstr = fp.ToBitString()\n",
    "    return bstr\n",
    "\n",
    "def format_training_data_for_naive_bayes(chembl_mol_f, chembl_targ_f):\n",
    "    \"\"\"Returns nDim array of bit-vectorized molecules (x-values) and corresponding nDim array of target classes\n",
    "    that each bit-vector is assigned to (y-values).\"\"\"\n",
    "    bayes_XY_fields = []\n",
    "    cpid_to_bitVec = {} # cpid = compound chembl_ID\n",
    "    \n",
    "    print('Formatting training data for use with Naive Bayesian Classifier...')\n",
    "    mol_fi, targ_fi = (gzip.open(chembl_mol_f, 'rt'), gzip.open(chembl_targ_f, 'rt'))\n",
    "    # Iterate through mol_file, transform smile to bit-vector, map cpid to its corresponding bit-vector\n",
    "    mol_reader = csv.reader(mol_fi)\n",
    "    next(mol_reader) # circumvent file header\n",
    "    print('\\tTransforming cpd smiles to bit-vectors from file: {}'.format(os.path.basename(chembl_mol_f)))\n",
    "    for cpid, smi, fp in mol_reader:\n",
    "        bitVec = np.frombuffer(fp.encode(), 'i1') - 48 # creates numpy array from string of 0's and 1's\n",
    "        cpid_to_bitVec[cpid] = bitVec\n",
    "    print('\\t\\tGenerated {} compound bit-vectors'.format(len(cpid_to_bitVec)))\n",
    "\n",
    "    # Iterate through targ_file, get all compounds (bitVector) associated with each target, format for bayes learning.\n",
    "    targ_reader = csv.reader(targ_fi)\n",
    "    next(targ_reader)\n",
    "    print(\"\\tMapping target classes to compound bit-vectors from file: {}\".format(os.path.basename(chembl_targ_f)))\n",
    "    for targID, uniprotID, cpd_assocs, targ_desc in targ_reader:\n",
    "        for cpid in cpd_assocs.split(':'):\n",
    "            if cpid in cpid_to_bitVec:\n",
    "                bitVec = cpid_to_bitVec[cpid]\n",
    "                bayes_XY_fields.append((bitVec, targID))\n",
    "    \n",
    "    # Return xvalues (bit-Vectors for each compound), and yvalues (class label of target each compound is associated with)\n",
    "    xvals, yvals = zip(*bayes_XY_fields)\n",
    "    print('\\t\\tGenerated training examples.')\n",
    "    print('')\n",
    "    return np.array(xvals), np.array(yvals)"
   ]
  },
  {
   "cell_type": "markdown",
   "metadata": {},
   "source": [
    "Confirm that the functions above are working correctly by running the following cell, which reads in the ChEMBL molecules and targets and formats them into training data and labels. The training data are fingerprints, and the label for each is the corresponding protein target."
   ]
  },
  {
   "cell_type": "code",
   "execution_count": 16,
   "metadata": {},
   "outputs": [
    {
     "name": "stdout",
     "output_type": "stream",
     "text": [
      "Formatting training data for use with Naive Bayesian Classifier...\n",
      "\tTransforming cpd smiles to bit-vectors from file: chembl_21_binding_molecules.csv.gz\n",
      "\t\tGenerated 334291 compound bit-vectors\n",
      "\tMapping target classes to compound bit-vectors from file: chembl_21_binding_targets.csv.gz\n",
      "\t\tGenerated training examples.\n",
      "\n"
     ]
    }
   ],
   "source": [
    "all_data, all_classes = format_training_data_for_naive_bayes(CHEMBL_MOLS_F, CHEMBL_TARGS_F)"
   ]
  },
  {
   "cell_type": "markdown",
   "metadata": {},
   "source": [
    "### *Question: How many examples do we have in total?*"
   ]
  },
  {
   "cell_type": "markdown",
   "metadata": {},
   "source": [
    "### Splitting our dataset\n",
    "\n",
    "In ML pipelines, it's common to split the data between training and testing sets. This allows us to evaluate the accuracy of our model against known labels before we apply it to new data. To split up our dataset, we will use the built in scikit-learn utility `train_test_split`"
   ]
  },
  {
   "cell_type": "code",
   "execution_count": 17,
   "metadata": {},
   "outputs": [],
   "source": [
    "training_data, testing_data, training_classes, testing_classes = train_test_split(\n",
    "    all_data, all_classes, \n",
    "    random_state=123, # Seed random seed for reproducibility, always forces the same result\n",
    "    test_size=0.3)    # 70/30 split"
   ]
  },
  {
   "cell_type": "markdown",
   "metadata": {},
   "source": [
    "### Training our model: Naive Bayes Classifier\n",
    "\n",
    "Now that our data are formatted correctly, we can pass them to our machine learning model. In this notebook, we will using a Naive Bayes classifier from Scikit-Learn. A classifier is a machine learning model that is used to discriminate different objects based on input features. \n",
    "\n",
    "Naive bayes classifier is based on Bayes theorem:\n",
    "\n",
    "$P(A|B) = \\frac{P(B|A)P(A)}{P(B)}$\n",
    "\n",
    "for a classification task this can be written as:\n",
    "\n",
    "$P(y|X) = \\frac{P(X|y)P(y)}{P(X)}$\n",
    "\n",
    "where y is the calss variable and X represents parameters/features. X is not a single feature but could be multiple independent features. \n",
    "\n",
    "Based on chain rule:\n",
    "\n",
    "$P(y|X) = \\frac{P(x1|y)P(x2|y)...P(xn|y)P(y)}{P(x1)P(x2)...P(xn)}$\n",
    "\n",
    "the denominator of the equation does not change and can be removed so that :\n",
    "\n",
    "$P(y|x_1...,x_n) \\propto P(y) \\Pi_{i=1}^{n}P(x_i|y) $\n",
    "\n",
    "if our task is multiclass classification, we need to find the class y with maximum probability:\n",
    "\n",
    "$ y = argmax_y P(y) \\Pi_{i=1}^{n} P(x_i|y) $\n",
    "\n",
    "we can use maximum a posteri (MAP) estimation to estimate P(y).\n",
    "\n",
    "**Multinomial Naive Bayes**: implements the naive bayes algorithm for multinomially distributed data, and is one of the two classic naive Bayes variants used in text classification (where data are typically represented as word counts). The distribution is parameterized by vectors $\\theta_y = (\\theta_{y1}, ... \\theta_{yn})$ for each class y where n is the number of features (in text classifcation, the size of vocabulary) and $\\theta_{yi}$ is the probability $P(x_i|y)$ of feature $i$ appearing in a sample belonging to class y.\n",
    "\n",
    "**Bernoulli Naive Bayes**: this classifier is similar to multinomial bayes but the predictions are boolean variables. \n",
    "\n",
    "The following function takes in our training input and labels, as well as the option to swap between a Bernoulli or Multinomical NB Classifier. Fill in the missing text to complete the functions. (Hint: We import everything we need at the top of the notebook - what can we use from there?)\n"
   ]
  },
  {
   "cell_type": "code",
   "execution_count": null,
   "metadata": {},
   "outputs": [],
   "source": [
    "#https://scikit-learn.org/stable/modules/generated/sklearn.naive_bayes.BernoulliNB.html\n",
    "def gen_naive_bayes_classifier(training_data, training_classes, Bernoulli=True, downsample=True):\n",
    "    \"\"\"Generate an instance of a Naive Bayesian classifier, based on either multivariate Bernoulli distributions or \n",
    "    multinomially distributed data. As our training_data consists of binomial input, the Bernoulli Model seems optimal.\"\"\"\n",
    "    if downsample:\n",
    "        warnings.warn('Downsampling data to test model code, will not return valid result.')\n",
    "        n = len(training_classes)\n",
    "        sample_idx = np.random.randint(n, size=int(0.01*n))\n",
    "        training_data = training_data[sample_idx]\n",
    "        training_classes = training_classes[sample_idx]\n",
    "    if Bernoulli:\n",
    "        print('Initiating Bernoulli Naive Bayesian Classifier')\n",
    "        classifier = ?\n",
    "        print('\\tFitting classifier to training data...')\n",
    "        classifier.fit(?, ?)\n",
    "    else:\n",
    "        print('Initiating Multinomial Naive Bayesian Classifier')\n",
    "        classifier = ?\n",
    "        print('\\tFitting classifier to training data...')\n",
    "        classifier.fit(?, ?)\n",
    "    print('\\tClassifier training complete!')\n",
    "    print('')\n",
    "    return classifier\n"
   ]
  },
  {
   "cell_type": "markdown",
   "metadata": {},
   "source": [
    "Once you've filled in the cell above, train your model by running the following cell. *NOTE*: This can take some time, especially on the full training set! "
   ]
  },
  {
   "cell_type": "code",
   "execution_count": null,
   "metadata": {},
   "outputs": [],
   "source": [
    "trained_classifier = gen_naive_bayes_classifier(training_data, training_classes, Bernoulli=True, downsample = True) # downsampling to demo for now"
   ]
  },
  {
   "cell_type": "markdown",
   "metadata": {},
   "source": [
    "### Evaluating model performance\n",
    "\n",
    "Once we have trained our model, we can check the performance on the test set. In the following cell, we use the trained model to get predictions for our test set, plot the confusion matrix as a heatmap, and compute overall accuracy."
   ]
  },
  {
   "cell_type": "code",
   "execution_count": null,
   "metadata": {},
   "outputs": [],
   "source": [
    "## FILL IN THE MISSING ARGUMENTS ##\n",
    "# see documentation (https://scikit-learn.org/stable/modules/generated/sklearn.naive_bayes.BernoulliNB.html) if unclear\n",
    "accuracy = trained_classificer.score(?, ?) \n",
    "testing_preds = trained_classifier.predict(?)\n",
    "\n",
    "ax = plt.axes()\n",
    "sns.heatmap(confusion_matrix(testing_labels, testing_preds), ax = ax) # plotting\n",
    "ax.set_title(f'Accuracy: {accuracy:.3f}')\n",
    "plt.show()\n",
    "plt.savefig(\"training_set_heatmap.png\")"
   ]
  },
  {
   "cell_type": "markdown",
   "metadata": {},
   "source": [
    "### Finally: Apply to cancer targets"
   ]
  },
  {
   "cell_type": "code",
   "execution_count": 1,
   "metadata": {},
   "outputs": [],
   "source": [
    "### Utility function, do not chance ###\n",
    "def predict_top_targets_for_compounds(cpd_f, classifier, targID_to_targName, ntop=10, verbose=True):\n",
    "    \"\"\"Load compounds of interest, convert to fp, get top N target predictions for each compound,\n",
    "    and write to file.\"\"\"\n",
    "    base_dir = os.path.dirname(cpd_f)\n",
    "    base_name = os.path.basename(cpd_f).split('.csv')[0]\n",
    "    res_ofn = os.path.join(base_dir, base_name+'.predictions.csv')\n",
    "    header = ['Zinc_ID', 'Targ_ID', 'Targ_Class', 'Probability_Estimate', 'Drug_Name', 'Smile']\n",
    "    \n",
    "    # Initiate csv reader and writer\n",
    "    #with open(cpd_f, 'r') as fi, open(res_ofn, 'w') as fo:\n",
    "    fi, fo = (open(cpd_f, 'rt'), open(res_ofn, 'w'))\n",
    "    reader = csv.reader(fi)\n",
    "    next(reader)\n",
    "    writer = csv.writer(fo)\n",
    "    writer.writerow(header)\n",
    "    # Iterate through cpd_f, generate compound bit-vectors\n",
    "    for cpid, smile, drugname in reader:\n",
    "        bstr = gen_compound_bitstring(smile)\n",
    "        if bstr is None:\n",
    "            continue\n",
    "        temp = np.frombuffer(bstr.encode(), 'i1') - 48\n",
    "        bitVec = temp.reshape(1, -1)\n",
    "        \n",
    "        # Generate array of probabilites for bitVec belonging to each target class\n",
    "        probabilities = classifier.predict_proba(bitVec)\n",
    "        target_probs = zip(classifier.classes_, probabilities[0])\n",
    "        \n",
    "        # Sort by most relevant targets, and write top N targets associated with bitVec to file\n",
    "        top_targs = sorted(target_probs, key=operator.itemgetter(1), reverse=True)\n",
    "        if verbose:\n",
    "            toprint = [(targID_to_targName[targID], prob) for targID,prob in top_targs[0:ntop]]\n",
    "            print('{}: '.format(cpid), toprint)\n",
    "            print('')\n",
    "        for targID, prob in top_targs[0:ntop]:\n",
    "            writer.writerow([cpid, targID, targID_to_targName[targID], prob, drugname, smile])\n",
    "    return res_ofn"
   ]
  },
  {
   "cell_type": "code",
   "execution_count": 2,
   "metadata": {},
   "outputs": [],
   "source": [
    "def predict_targets(cancer_cpds_f,  trained_classifier, ntop=5, verbose=False):\n",
    "    \"\"\"Maps targets, formats data, trains a naive bayesian classifier, then predicts and plots top targets, \n",
    "    based on cancer-related compounds file provided\"\"\"\n",
    "    chid_to_targName = map_target_identifiers(chembl_targ_f)\n",
    "    preds_f = predict_top_targets_for_compounds(cancer_cpds_f, trained_classifier, chid_to_targName, ntop=ntop, verbose=verbose)\n",
    "    view_target_dist(preds_f, figsize=(18,12))\n",
    "    return preds_f"
   ]
  },
  {
   "cell_type": "code",
   "execution_count": null,
   "metadata": {},
   "outputs": [],
   "source": [
    "preds_f = predict_targets(CANCER_CPDS_F, trained_classifier, ntop=20, Bernoulli=False, verbose=True, test=True)"
   ]
  },
  {
   "cell_type": "code",
   "execution_count": null,
   "metadata": {},
   "outputs": [],
   "source": [
    "Image(filename='cancer_compounds.png') # visualize most common targets"
   ]
  }
 ],
 "metadata": {
  "kernelspec": {
   "display_name": "cdd_workshop",
   "language": "python",
   "name": "cdd_workshop"
  },
  "language_info": {
   "codemirror_mode": {
    "name": "ipython",
    "version": 3
   },
   "file_extension": ".py",
   "mimetype": "text/x-python",
   "name": "python",
   "nbconvert_exporter": "python",
   "pygments_lexer": "ipython3",
   "version": "3.9.2"
  }
 },
 "nbformat": 4,
 "nbformat_minor": 4
}
