{
 "cells": [
  {
   "cell_type": "markdown",
   "metadata": {},
   "source": [
    "# PSPG 245B - Molecular Comparison Notebook"
   ]
  },
  {
   "cell_type": "markdown",
   "metadata": {},
   "source": [
    "This notebook is used to explore why a prediction from the first script was made. It takes a file of drugs along with a target ID (e.g., “CHEMBL...”), and the two ChEMBL reference files as mentioned before. It uses RDKit to calculate the molecular similarity of all the ligands for the target you specified as compared to the drugs you gave it, and shows the most similar ligands.\n",
    "\n",
    "There is less explanation and more fill-in-the-blank in this notebook, as many of the patterns should match the notebooks you've seen before. Each function contains a desciption of what it is doing in the docstring, which may help you fill in any missing parts. And as always, if you have questions, please ask."
   ]
  },
  {
   "cell_type": "markdown",
   "metadata": {},
   "source": [
    "### Import modules"
   ]
  },
  {
   "cell_type": "code",
   "execution_count": 9,
   "metadata": {},
   "outputs": [
    {
     "data": {
      "text/html": [
       "<style>.container {width:85% !important;} </style>"
      ],
      "text/plain": [
       "<IPython.core.display.HTML object>"
      ]
     },
     "metadata": {},
     "output_type": "display_data"
    }
   ],
   "source": [
    "# Jupyter Display\n",
    "from IPython.core.display import display,HTML\n",
    "display(HTML(\"<style>.container {width:85% !important;} </style>\"))\n",
    "\n",
    "# Shell I/O tools\n",
    "import os,sys\n",
    "import gzip\n",
    "import csv\n",
    "\n",
    "# Custom functions\n",
    "from utils import map_target_identifiers, flatten_list\n",
    "\n",
    "# Data handling modules\n",
    "import numpy as np\n",
    "import pandas as pd\n",
    "\n",
    "# Chemical Handling Modules\n",
    "from rdkit import Chem\n",
    "from rdkit.Chem import AllChem\n",
    "from rdkit.SimDivFilters.SimilarityPickers import TopNOverallPicker\n",
    "from rdkit.Chem import Draw\n",
    "\n",
    "# Vizualization Modules\n",
    "%matplotlib notebook\n",
    "import matplotlib.pyplot as plt\n",
    "import seaborn as sns"
   ]
  },
  {
   "cell_type": "markdown",
   "metadata": {
    "tags": []
   },
   "source": [
    "## Directions\n",
    "Fix the functions so that our handler function at the end of the notebook will work.\n",
    "\n",
    "**Note_1:** Not all the functions need to be adjusted. Those that work as is, have a comment above mentioning the function does not need to be altered.\n",
    "\n",
    "**Note_2:** The Jupyter notebook stores all variables created in memory unless explicitely deleted. Thus if you name a variable something and change the name in the same cell, the original variable will STILL be there. This can cause problems if you forget to change all instances of the initial variable later in your script. The easiest way to not worry about this is to restart the kernel, which will flush the memory. However you will have to reload every cell again.\n",
    "\n",
    "**Note_3:** Ask questions! We are here to help :) "
   ]
  },
  {
   "cell_type": "markdown",
   "metadata": {},
   "source": [
    "### Default Values"
   ]
  },
  {
   "cell_type": "code",
   "execution_count": 11,
   "metadata": {},
   "outputs": [],
   "source": [
    "# Default Directories\n",
    "BASE_DIR = os.getcwd()\n",
    "\n",
    "# Default Files\n",
    "EX_TARGET = 'CHEMBL3018'\n",
    "QUERY_CPDS_F = os.path.join(BASE_DIR, 'data', 'candidate_compounds.sample.csv')\n",
    "CHEMBL_MOLS_F  = os.path.join(BASE_DIR, 'data', 'chembl_21_binding_molecules.csv.gz')\n",
    "CHEMBL_TARGS_F = os.path.join(BASE_DIR, 'data', 'chembl_21_binding_targets.csv.gz')"
   ]
  },
  {
   "cell_type": "markdown",
   "metadata": {},
   "source": [
    "### Primary Functions"
   ]
  },
  {
   "cell_type": "code",
   "execution_count": 12,
   "metadata": {},
   "outputs": [],
   "source": [
    "####  THIS FUNCTION DOES NOT NEED TO BE ALTERED  ####\n",
    "def viz_most_similar_ligands_to_candidate(topSim, candidate_id, candidate_mol, ligand_to_mol, target, mols_per_row=6):\n",
    "    \"\"\"Generate .png file of 2D representation of candidate compound and N-most similar target ligands.\"\"\"\n",
    "    print(\"Generating .png of top {} most similar ligands of target {}, \"\n",
    "          \"to query compound {}.\".format(mols_per_row-1, target, candidate_id))\n",
    "    ofn = candidate_id.lower() + '_{}_top{}_simCpds.png'.format(target.lower(), mols_per_row-1)\n",
    "    sim_mols = [ligand_to_mol[cpid] for cpid in topSim]\n",
    "    sim_mols.insert(0, candidate_mol)\n",
    "    img=Draw.MolsToGridImage(sim_mols, molsPerRow=mols_per_row, subImgSize=(200,200), legends=[x.GetProp(\"_cpid\") for x in sim_mols], returnPNG=False)\n",
    "    img.save(ofn)\n",
    "    return"
   ]
  },
  {
   "cell_type": "code",
   "execution_count": 13,
   "metadata": {},
   "outputs": [],
   "source": [
    "####  THIS FUNCTION DOES NOT NEED TO BE ALTERED  ####\n",
    "def get_nMost_similar_ligands_to_candiates(target, ligand_to_mol, candidate_to_mol, nSim=5):\n",
    "    \"\"\"Return target's N-most similar ligands for each candidate compound of interest.\"\"\"\n",
    "    ligand_fps = []\n",
    "    \n",
    "    # Generate fingerprints from ligand mol-objects, assign id to fp, and group\n",
    "    for mol in ligand_to_mol.values():\n",
    "        fp = Chem.RDKFingerprint(mol)\n",
    "        fp._id = mol.GetProp('_cpid')\n",
    "        ligand_fps.append(fp)\n",
    "    \n",
    "    # Iterate through candidate compounds, use \"picker\" to identify N-most similar ligands\n",
    "    for candidate, mol in candidate_to_mol.items():\n",
    "        candidate_fp = Chem.RDKFingerprint(mol)\n",
    "        candidate_fp._id = mol.GetProp('_cpid')\n",
    "        picker = TopNOverallPicker(numToPick=nSim, probeFps=[candidate_fp], dataSet=ligand_fps)\n",
    "        topSim = [fp._id for fp,score in picker]\n",
    "    viz_most_similar_ligands_to_candidate(topSim, candidate, mol, ligand_to_mol, target, mols_per_row=nSim+1)\n",
    "    return"
   ]
  },
  {
   "cell_type": "code",
   "execution_count": null,
   "metadata": {},
   "outputs": [],
   "source": [
    "## FILL IN THE BLANKS ###\n",
    "def gen_mol_from_smile(cpid, smile): # Much of this should look familiar.\n",
    "    \"\"\"Generate rdkit mol object from smile, and set cpid as mol property.\"\"\"\n",
    "    ? = Chem.MolFromSmiles(?)\n",
    "    if mol is None:\n",
    "        return None\n",
    "    mol.SetProp('_cpid', ?)\n",
    "    return mol"
   ]
  },
  {
   "cell_type": "code",
   "execution_count": 14,
   "metadata": {},
   "outputs": [],
   "source": [
    "## FILL IN THE BLANKS ##\n",
    "def map_candidate_compounds_to_mol(candidate_cpds_f):\n",
    "    \"\"\"Calculates a dictionary mapping candidate compound-IDs to rdkit mol-objects from provided csv file.\"\"\"\n",
    "    candidate_to_mol = {}\n",
    "    print('Mapping candidate compound-IDs to rdkit mol-objects')\n",
    "    fi = open(candidate_cpds_f, 'rt' )\n",
    "    reader = csv.reader(fi)\n",
    "    next(reader)\n",
    "    for cpid, smile in reader:\n",
    "        mol = gen_mol_from_smile(?, ?) # Hint: What did you just implement? What were the arguments?\n",
    "        if mol is None:\n",
    "            continue\n",
    "        candidate_to_mol[?] = mol\n",
    "    print('\\tMapped {} candidate compound-IDs to mol-objects\\n'.format(len(candidate_to_mol)))\n",
    "    return candidate_to_mol"
   ]
  },
  {
   "cell_type": "code",
   "execution_count": 16,
   "metadata": {},
   "outputs": [],
   "source": [
    "def map_target_ligands_to_mol(targ_ligands, chembl_mol_f):\n",
    "    \"\"\"Similar to function, creates dictionary of ligand-IDs mapped to their \n",
    "    corresponding rdkit-mol objects, with the caveate that all ligands not in targ_ligands are ignored.\"\"\"\n",
    "    ligand_to_mol = {}\n",
    "    targ_ligands = set(targ_ligands)\n",
    "    print('Mapping ligand-IDs to rdkit mol-objects')\n",
    "    fi = gzip.open(chembl_mol_f, 'rt')\n",
    "    reader = csv.reader(fi)\n",
    "    next(reader)\n",
    "    for ?, ?, ? in reader: # Hint: look at the structure of chembl_21_binding_molecules.csv.gz\n",
    "        if cpid in targ_ligands:\n",
    "            mol = gen_mol_from_smile(?, ?)\n",
    "            if mol is None:\n",
    "                continue\n",
    "            ligand_to_mol[?] = mol\n",
    "    print('\\tMapped {} ligands to mol-objects'.format(len(ligand_to_mol)))\n",
    "    return ligand_to_mol"
   ]
  },
  {
   "cell_type": "code",
   "execution_count": null,
   "metadata": {},
   "outputs": [],
   "source": [
    "## FILL IN THE BLANKS ##\n",
    "def identify_target_ligands(target, chembl_targ_f):\n",
    "    \"\"\"Return list of ligands associated with the requested protein target.\"\"\"\n",
    "    ligands = []\n",
    "    print('Identifying ligands of target: {}'.format(target))\n",
    "    fi = gzip.open(chembl_targ_f, 'rt' )\n",
    "    reader = csv.reader(fi)\n",
    "    next(reader)\n",
    "    for chid, unid, assoc_ligands, tdesc in reader:\n",
    "        if chid != ?:\n",
    "            continue\n",
    "        for ligand in assoc_ligands.split(':'):\n",
    "            ligands.append(?)\n",
    "    ligands = set(ligands)\n",
    "    print('\\tFound {} ligands\\n'.format(len(ligands)))\n",
    "    return ligands"
   ]
  },
  {
   "cell_type": "code",
   "execution_count": 18,
   "metadata": {},
   "outputs": [],
   "source": [
    "def compare_compound_to_target_ligands(candidate_cpds_f, target, chembl_mol_f, chembl_target_f, nSim=5):\n",
    "    \"\"\"Identifies ligands of a particular target, and retrieves the N-most similar ligands to each candidate compound\"\"\"\n",
    "    targ_ligands = identify_target_ligands(target, chembl_target_f)\n",
    "    ligand_to_mol = map_target_ligands_to_mol(targ_ligands, chembl_mol_f)\n",
    "    candidate_to_mol = map_candidate_compounds_to_mol(candidate_cpds_f)\n",
    "    get_nMost_similar_ligands_to_candiates(target, ligand_to_mol, candidate_to_mol, nSim=nSim)\n",
    "    return "
   ]
  },
  {
   "cell_type": "code",
   "execution_count": null,
   "metadata": {},
   "outputs": [],
   "source": [
    "compare_compound_to_target_ligands(QUERY_CPDS_F, EX_TARGET, CHEMBL_MOLS_F, CHEMBL_TARGS_F, nSim=5)"
   ]
  },
  {
   "cell_type": "markdown",
   "metadata": {},
   "source": [
    "### *Question: Do these ligands share common patterns, functional groups, “warheads”, etc with your compound? Which ones?*"
   ]
  }
 ],
 "metadata": {
  "kernelspec": {
   "display_name": "cdd_workshop",
   "language": "python",
   "name": "cdd_workshop"
  },
  "language_info": {
   "codemirror_mode": {
    "name": "ipython",
    "version": 3
   },
   "file_extension": ".py",
   "mimetype": "text/x-python",
   "name": "python",
   "nbconvert_exporter": "python",
   "pygments_lexer": "ipython3",
   "version": "3.9.2"
  }
 },
 "nbformat": 4,
 "nbformat_minor": 4
}
