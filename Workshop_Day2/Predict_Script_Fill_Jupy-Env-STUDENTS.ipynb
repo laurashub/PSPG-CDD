{
 "cells": [
  {
   "cell_type": "markdown",
   "source": [
    "### Import Modules"
   ],
   "metadata": {}
  },
  {
   "cell_type": "code",
   "execution_count": 1,
   "source": [
    "# Jupyter Display\n",
    "from IPython.core.display import display,HTML\n",
    "display(HTML(\"<style>.container {width:85% !important;} </style>\"))\n",
    "\n",
    "# I/O tools\n",
    "import os,sys\n",
    "import gzip\n",
    "import csv\n",
    "import warnings\n",
    "\n",
    "# Standard Python Tools\n",
    "import operator\n",
    "\n",
    "# Custom functions\n",
    "from utils import map_target_identifiers, flatten_list, view_target_dist\n",
    "\n",
    "# Data handling modules\n",
    "import numpy as np\n",
    "import pandas as pd\n",
    "\n",
    "# Sklearn Modules\n",
    "from sklearn.naive_bayes import BernoulliNB\n",
    "from sklearn.naive_bayes import MultinomialNB\n",
    "\n",
    "# Chemical Handling Modules\n",
    "from rdkit import Chem\n",
    "from rdkit.Chem import AllChem\n",
    "\n",
    "# Vizualization Modules\n",
    "%matplotlib inline\n",
    "import matplotlib.pyplot as plt\n",
    "import seaborn as sns"
   ],
   "outputs": [
    {
     "output_type": "display_data",
     "data": {
      "text/html": [
       "<style>.container {width:85% !important;} </style>"
      ],
      "text/plain": [
       "<IPython.core.display.HTML object>"
      ]
     },
     "metadata": {}
    }
   ],
   "metadata": {}
  },
  {
   "cell_type": "markdown",
   "source": [
    "## Directions\n",
    "Fix the functions so that our handler function below will work.\n",
    "\n",
    "**Note_1:** Not all the functions need to be adjusted. Those that work as is, have a comment above mentioning the function does not need to be altered.\n",
    "\n",
    "**Note_2:** You do not have to alter the functions in Jupyter. It's just a convenient environment for testing. The actual script.py have command line interfaces so that it is easier for you to run the scripts on multiple files. Those command line arguments (argparse) will not work in Jupyter.\n",
    "\n",
    "**Note_3:** The Jupyter notebook stores all variables created in memory unless explicitely deleted. Thus if you name a variable something and change the name in the same cell, the original variable will STILL be there. This can cause problems if you forget to change all instances of the initial variable later in your script. The easiest way to not worry about this is to restart the kernel, which will flush the memory. However you will have to reload every cell again.\n",
    "\n",
    "**Note_4:** Ask questions!"
   ],
   "metadata": {}
  },
  {
   "cell_type": "markdown",
   "source": [
    "## Perform EDA on the NCI-60 dataset\n",
    "Create a file of compounds you would like to make protein target predictions for"
   ],
   "metadata": {}
  },
  {
   "cell_type": "code",
   "execution_count": null,
   "source": [
    "# read NC60 screen\n",
    "nci60 = pd.read_csv(\"PSPG-CDD/Workshop_Day2/DTP-NCI60_Dataset/dtp_nci60_compounds.csv.gz\")\n",
    "nci60 = nci60.melt(id_vars=['PubChem_id', 'SMILES', 'drug_name'], var_name='cell_line', value_name='cpd_activity')"
   ],
   "outputs": [],
   "metadata": {}
  },
  {
   "cell_type": "code",
   "execution_count": null,
   "source": [
    "cell_line = ?\n",
    "n_cpds = ?\n",
    "# filter\n",
    "top_cpds = nci60[nci60['cell_line']==cell_line].sort_values(by='cpd_activity', ascending=False)[:n_cpds]\n",
    "top_cpds = top_cpds[['PubChem_id', 'SMILES', 'drug_name']]\n",
    "top_cpds.head()\n",
    "# write to csv\n",
    "top_cpds.to_csv(f\"PSPG-CDD/Workshop_Day2/{cell_line}_top{n_cpds}_cpds.csv\", index=False)"
   ],
   "outputs": [],
   "metadata": {}
  },
  {
   "cell_type": "markdown",
   "source": [
    "### Default Values"
   ],
   "metadata": {}
  },
  {
   "cell_type": "code",
   "execution_count": 2,
   "source": [
    "#Python Pandas print options\n",
    "pd.set_option('display.width', 1000)\n",
    "pd.set_option('precision', 3)\n",
    "pd.set_option('max_rows', 15)\n",
    "pd.set_option('large_repr', 'truncate')\n",
    "pd.set_option('max_colwidth', 40)\n",
    "pd.set_option('colheader_justify', 'left')\n",
    "\n",
    "\n",
    "# Default Directories\n",
    "BASE_DIR = os.getcwd()\n",
    "\n",
    "# Default Files\n",
    "CANCER_CPDS_F = os.path.join(BASE_DIR, 'cancer_compounds.sample.csv')\n",
    "CHEMBL_MOLS_F = os.path.join(BASE_DIR, 'chembl_21_binding_molecules.csv.gz')\n",
    "CHEMBL_TARGS_F = os.path.join(BASE_DIR, 'chembl_21_binding_targets.csv.gz')"
   ],
   "outputs": [],
   "metadata": {}
  },
  {
   "cell_type": "markdown",
   "source": [
    "### Primary Functions"
   ],
   "metadata": {}
  },
  {
   "cell_type": "code",
   "execution_count": 3,
   "source": [
    "def gen_compound_bitstring(smile, radius=?, nBits=1024):\n",
    "    \"\"\"Generates Morgan-fingerprint from compound smile, converts fingerprint to bit-vector, and returns bit-vector.\"\"\"\n",
    "    ? = Chem.MolFromSmiles(?)\n",
    "    if mol is None:\n",
    "        return None\n",
    "    fp = AllChem.GetMorganFingerprintAsBitVect(mol, ?, ?)\n",
    "    bstr = fp.ToBitString()\n",
    "    return ?"
   ],
   "outputs": [],
   "metadata": {}
  },
  {
   "cell_type": "code",
   "execution_count": 4,
   "source": [
    "#### THIS FUNCTION DOES NOT NEED TO BE ALTERED  ####\n",
    "def predict_top_targets_for_compounds(cpd_f, classifier, targID_to_targName, ntop=10, verbose=True):\n",
    "    \"\"\"Load compounds of interest, convert to fp, get top N target predictions for each compound,\n",
    "    and write to file.\"\"\"\n",
    "    base_dir = os.path.dirname(cpd_f)\n",
    "    base_name = os.path.basename(cpd_f).split('.csv')[0]\n",
    "    res_ofn = os.path.join(base_dir, base_name+'.predictions.csv')\n",
    "    header = ['Zinc_ID', 'Targ_ID', 'Targ_Class', 'Probability_Estimate', 'Drug_Name', 'Smile']\n",
    "    \n",
    "    # Initiate csv reader and writer\n",
    "    #with open(cpd_f, 'r') as fi, open(res_ofn, 'w') as fo:\n",
    "    fi, fo = (open(cpd_f, 'rt'), open(res_ofn, 'w'))\n",
    "    reader = csv.reader(fi)\n",
    "    next(reader)\n",
    "    writer = csv.writer(fo)\n",
    "    writer.writerow(header)\n",
    "    # Iterate through cpd_f, generate compound bit-vectors\n",
    "    for cpid, smile, drugname in reader:\n",
    "        bstr = gen_compound_bitstring(smile)\n",
    "        if bstr is None:\n",
    "            continue\n",
    "        temp = np.frombuffer(bstr.encode(), 'i1') - 48\n",
    "        bitVec = temp.reshape(1, -1)\n",
    "        \n",
    "        # Generate array of probabilites for bitVec belonging to each target class\n",
    "        probabilities = classifier.predict_proba(bitVec)\n",
    "        target_probs = zip(classifier.classes_, probabilities[0])\n",
    "        \n",
    "        # Sort by most relevant targets, and write top N targets associated with bitVec to file\n",
    "        top_targs = sorted(target_probs, key=operator.itemgetter(1), reverse=True)\n",
    "        if verbose:\n",
    "            toprint = [(targID_to_targName[targID], prob) for targID,prob in top_targs[0:ntop]]\n",
    "            print('{}: '.format(cpid), toprint)\n",
    "            print('')\n",
    "        for targID, prob in top_targs[0:ntop]:\n",
    "            writer.writerow([cpid, targID, targID_to_targName[targID], prob, drugname, smile])\n",
    "    return res_ofn"
   ],
   "outputs": [],
   "metadata": {}
  },
  {
   "cell_type": "code",
   "execution_count": 5,
   "source": [
    "def gen_naive_bayes_classifier(training_data, training_classes, Bernoulli=True, test=True):\n",
    "    \"\"\"Generate an instance of a Naive Bayesian classifier, based on either multivariate Bernoulli distributions or \n",
    "    multinomially distributed data. As our training_data consists of binomial input, the Bernoulli Model seems optimal.\"\"\"\n",
    "    if test:\n",
    "        warnings.warn('Downsampling data to test model code, will not return valid result.')\n",
    "        n = len(training_classes)\n",
    "        sample_idx = np.random.randint(n, size=int(0.01*n))\n",
    "        training_data = training_data[sample_idx]\n",
    "        training_classes = training_classes[sample_idx]\n",
    "    if Bernoulli:\n",
    "        print('Initiating Bernoulli Naive Bayesian Classifier')\n",
    "        classifier = ?\n",
    "        print('\\tFitting classifier to training data...')\n",
    "        classifier.fit(training_data, training_classes)\n",
    "    else:\n",
    "        print('Initiating Multinomial Naive Bayesian Classifier')\n",
    "        classifier = ?\n",
    "        print('\\tFitting classifier to training data...')\n",
    "        classifier.fit(?, ?)\n",
    "    print('\\tClassifier training complete!')\n",
    "    print('')\n",
    "    return classifier"
   ],
   "outputs": [],
   "metadata": {}
  },
  {
   "cell_type": "code",
   "execution_count": 20,
   "source": [
    "#### THIS FUNCTION DOES NOT NEED TO BE ALTERED  ####\n",
    "def format_training_data_for_naive_bayes(chembl_mol_f, chembl_targ_f):\n",
    "    \"\"\"Returns nDim array of bit-vectorized molecules (x-values) and corresponding nDim array of target classes\n",
    "    that each bit-vector is assigned to (y-values).\"\"\"\n",
    "    bayes_XY_fields = []\n",
    "    cpid_to_bitVec = {} # cpid = compound chembl_ID\n",
    "    \n",
    "    print('Formatting training data for use with Naive Bayesian Classifier...')\n",
    "    mol_fi, targ_fi = (gzip.open(chembl_mol_f, 'rt'), gzip.open(chembl_targ_f, 'rt'))\n",
    "    # Iterate through mol_file, transform smile to bit-vector, map cpid to its corresponding bit-vector\n",
    "    mol_reader = csv.reader(mol_fi)\n",
    "    next(mol_reader) # circumvent file header\n",
    "    print('\\tTransforming cpd smiles to bit-vectors from file: {}'.format(os.path.basename(chembl_mol_f)))\n",
    "    for cpid, smi, fp in mol_reader:\n",
    "        bitVec = np.frombuffer(fp.encode(), 'i1') - 48 # creates numpy array from string of 0's and 1's\n",
    "        cpid_to_bitVec[cpid] = bitVec\n",
    "    print('\\t\\tGenerated {} compound bit-vectors'.format(len(cpid_to_bitVec)))\n",
    "\n",
    "    # Iterate through targ_file, get all compounds (bitVector) associated with each target, format for bayes learning.\n",
    "    targ_reader = csv.reader(targ_fi)\n",
    "    next(targ_reader)\n",
    "    print(\"\\tMapping target classes to compound bit-vectors from file: {}\".format(os.path.basename(chembl_targ_f)))\n",
    "    for targID, uniprotID, cpd_assocs, targ_desc in targ_reader:\n",
    "        for cpid in cpd_assocs.split(':'):\n",
    "            if cpid in cpid_to_bitVec:\n",
    "                bitVec = cpid_to_bitVec[cpid]\n",
    "                bayes_XY_fields.append((bitVec, targID))\n",
    "    \n",
    "    # Return xvalues (bit-Vectors for each compound), and yvalues (class label of target each compound is associated with)\n",
    "    xvals, yvals = zip(*bayes_XY_fields)\n",
    "    print('\\t\\tGenerated {} total training examples.'.format(len(xvals)))\n",
    "    print('')\n",
    "    return np.array(xvals), np.array(yvals)"
   ],
   "outputs": [],
   "metadata": {}
  },
  {
   "cell_type": "code",
   "execution_count": 7,
   "source": [
    "def predict_targets(cancer_cpds_f, chembl_mol_f, chembl_targ_f, ntop=5, Bernoulli=True, verbose=False, test=True):\n",
    "    \"\"\"Maps targets, formats data, trains a naive bayesian classifier, then predicts and plots top targets, \n",
    "    based on cancer-related compounds file provided\"\"\"\n",
    "    chid_to_targName = map_target_identifiers(chembl_targ_f)\n",
    "    training_data, training_classes = format_training_data_for_naive_bayes(chembl_mol_f, ?)\n",
    "    classifier = gen_naive_bayes_classifier(?, training_classes, Bernoulli=?, test=test)\n",
    "    preds_f = predict_top_targets_for_compounds(?, ?, chid_to_targName, ntop=ntop, verbose=verbose)\n",
    "    view_target_dist(?, figsize=(18,12))\n",
    "    return preds_f"
   ],
   "outputs": [],
   "metadata": {}
  },
  {
   "cell_type": "code",
   "execution_count": null,
   "source": [
    "preds_f = predict_targets(CANCER_CPDS_F, CHEMBL_MOLS_F, CHEMBL_TARGS_F, ntop=?, Bernoulli=?, verbose=True, test=True)"
   ],
   "outputs": [
    {
     "output_type": "stream",
     "name": "stdout",
     "text": [
      "Mapping target chembl_IDs to human-readable Names...\n",
      "\tMapped 2240 chembl_IDs\n",
      "\n",
      "Formatting training data for use with Naive Bayesian Classifier...\n",
      "\tTransforming cpd smiles to bit-vectors from file: chembl_21_binding_molecules.csv.gz\n",
      "\t\tGenerated 334291 compound bit-vectors\n",
      "\tMapping target classes to compound bit-vectors from file: chembl_21_binding_targets.csv.gz\n",
      "\t\tGenerated 1372818 total training examples.\n",
      "\n",
      "Initiating Bernoulli Naive Bayesian Classifier\n",
      "\tFitting classifier to training data...\n"
     ]
    }
   ],
   "metadata": {}
  },
  {
   "cell_type": "code",
   "execution_count": null,
   "source": [],
   "outputs": [],
   "metadata": {}
  }
 ],
 "metadata": {
  "kernelspec": {
   "display_name": "cdd_workshop",
   "language": "python",
   "name": "cdd_workshop"
  },
  "language_info": {
   "codemirror_mode": {
    "name": "ipython",
    "version": 3
   },
   "file_extension": ".py",
   "mimetype": "text/x-python",
   "name": "python",
   "nbconvert_exporter": "python",
   "pygments_lexer": "ipython3",
   "version": "3.9.2"
  }
 },
 "nbformat": 4,
 "nbformat_minor": 4
}